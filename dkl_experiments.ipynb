{
 "cells": [
  {
   "cell_type": "markdown",
   "metadata": {},
   "source": [
    "## 1) Introduction and Goals\n",
    "\n",
    "This notebook demonstrates a comparison between:\n",
    "1. A **standard Gaussian Process** using scikit-learn (SE kernel).\n",
    "2. A **vanilla feedforward Neural Network** in PyTorch.\n",
    "3. A **Deep Kernel Learning** approach, which combines a small neural net feature extractor with a Gaussian Process kernel in GPyTorch.\n",
    "\n",
    "We'll tackle a **1D toy regression** problem. Our function will be nonlinear so we can see differences in how each method extrapolates and estimates uncertainty.\n"
   ]
  },
  {
   "cell_type": "code",
   "execution_count": 89,
   "metadata": {},
   "outputs": [],
   "source": [
    "# %pip install numpy, matplotlib.pyplot \n",
    "# %pip install sklearn.gaussian_process.kernels, sklearn.gaussian_process,\n",
    "# %pip install torch\n",
    "# %pip install gpytorch\n",
    "# %pip install plotly"
   ]
  },
  {
   "cell_type": "code",
   "execution_count": 90,
   "metadata": {},
   "outputs": [
    {
     "data": {
      "text/plain": [
       "<torch._C.Generator at 0x1d2252e5950>"
      ]
     },
     "execution_count": 90,
     "metadata": {},
     "output_type": "execute_result"
    }
   ],
   "source": [
    "# [1]: Imports and basic setup\n",
    "\n",
    "import numpy as np\n",
    "import matplotlib.pyplot as plt\n",
    "\n",
    "# For standard GP\n",
    "from sklearn.gaussian_process import GaussianProcessRegressor\n",
    "from sklearn.gaussian_process.kernels import RBF, WhiteKernel\n",
    "\n",
    "# For NN\n",
    "import torch\n",
    "import torch.nn as nn\n",
    "import torch.optim as optim\n",
    "\n",
    "# For DKL using gpytorch\n",
    "import gpytorch\n",
    "from gpytorch.mlls import VariationalELBO\n",
    "from gpytorch.likelihoods import GaussianLikelihood\n",
    "\n",
    "# Misc\n",
    "np.random.seed(43)\n",
    "torch.manual_seed(43)\n"
   ]
  },
  {
   "cell_type": "markdown",
   "metadata": {},
   "source": [
    "## 2) Dataset Generation\n",
    "\n",
    "We'll create a simple 1D function with some nonlinear behavior:\n",
    "$y = \\\\sin(2 x) + 0.3 x^3 + \\text{noise}$\n",
    "\n",
    "We'll sample from $x$ in the range $[-3, 3]$. We'll generate a training set and a separate testing grid for evaluation.\n"
   ]
  },
  {
   "cell_type": "code",
   "execution_count": 91,
   "metadata": {},
   "outputs": [
    {
     "name": "stdout",
     "output_type": "stream",
     "text": [
      "Shapes -> X_train: (40, 1) y_train: (40,)\n",
      "           X_test: (200, 1) y_test_true: (200,)\n"
     ]
    }
   ],
   "source": [
    "# In[2]: Generate synthetic data\n",
    "\n",
    "def true_function(x):\n",
    "    # Nonlinear function of x\n",
    "    return np.sin(2*x) + 0.3*(x**3)\n",
    "\n",
    "N_train = 40\n",
    "N_test  = 200\n",
    "X_min, X_max = -3.0, 3.0\n",
    "\n",
    "# Training data\n",
    "X_train = np.random.uniform(X_min, X_max, size=(N_train, 1))\n",
    "y_train_true = true_function(X_train.ravel())\n",
    "noise_std = 0.4\n",
    "y_train = y_train_true + noise_std*np.random.randn(N_train)\n",
    "\n",
    "# Testing data (regular grid)\n",
    "X_test = np.linspace(X_min, X_max, N_test).reshape(-1, 1)\n",
    "y_test_true = true_function(X_test.ravel())\n",
    "\n",
    "print(\"Shapes -> X_train:\", X_train.shape, \"y_train:\", y_train.shape)\n",
    "print(\"           X_test:\", X_test.shape,  \"y_test_true:\", y_test_true.shape)\n"
   ]
  },
  {
   "cell_type": "code",
   "execution_count": 92,
   "metadata": {},
   "outputs": [],
   "source": [
    "# # Define the McCormick function\n",
    "# def mccormick(x1, x2):\n",
    "#     return np.sin(x1 + x2) + (x1 - x2)**2 - 1.5 * x1 + 2.5 * x2 + 1\n",
    "\n",
    "# # Generate grid data for plotting\n",
    "# x1 = np.linspace(-1.5, 4, 100)\n",
    "# x2 = np.linspace(-3, 4, 100)\n",
    "# x1_test, x2_test = np.meshgrid(x1, x2)\n",
    "# y = mccormick(x1_test, x2_test)\n",
    "\n",
    "# # # Generate test data\n",
    "# test_x = torch.tensor(np.vstack((x1_test.ravel(), x2_test.ravel())).T, dtype=torch.float32)\n",
    "# test_y = torch.tensor(y.ravel(), dtype=torch.float32)\n",
    "\n",
    "# # Generate training data\n",
    "# x1 = np.linspace(-1.5, 4, 5)\n",
    "# x2 = np.linspace(-3, 4, 5)\n",
    "# x1_train, x2_train = np.meshgrid(x1, x2)\n",
    "# train_x = np.vstack((x1_train.ravel(), x2_train.ravel())).T\n",
    "# # add noise to the training data\n",
    "# train_y = mccormick(train_x[:, 0], train_x[:, 1]) + np.random.normal(0, 1, len(train_x))\n",
    "\n",
    "# # # Convert training data to tensors\n",
    "# # train_x = torch.tensor(train_x, dtype=torch.float32)\n",
    "# # train_y = torch.tensor(train_y.ravel(), dtype=torch.float32)\n",
    "\n",
    "# X_test = test_x\n",
    "# y_test_true = test_y\n",
    "# X_train = train_x\n",
    "# y_train = train_y"
   ]
  },
  {
   "cell_type": "markdown",
   "metadata": {},
   "source": [
    "## 3) Standard Gaussian Process (scikit-learn)\n",
    "\n",
    "We'll use an RBF kernel with automatic length-scale.  \n",
    "We also add some noise via `WhiteKernel` to handle the variance of the data.\n",
    "\n",
    "**Key points**:\n",
    "- The GP can learn lengthscales and noise level from data.\n",
    "- We get posterior mean and standard deviation at test points, which we can plot to see uncertainty bands.\n"
   ]
  },
  {
   "cell_type": "code",
   "execution_count": 93,
   "metadata": {},
   "outputs": [
    {
     "name": "stdout",
     "output_type": "stream",
     "text": [
      "Learned kernel: RBF(length_scale=0.558) + WhiteKernel(noise_level=0.318)\n",
      "Log-marginal-likelihood: -75.6394519655774\n"
     ]
    }
   ],
   "source": [
    "# In[3]: Fit a standard Gaussian Process\n",
    "\n",
    "# Define an RBF kernel + WhiteKernel for noise\n",
    "kernel = RBF(length_scale=1.0) + WhiteKernel(noise_level=1.0)\n",
    "\n",
    "gp_model = GaussianProcessRegressor(kernel=kernel, n_restarts_optimizer=5, alpha=0.0)\n",
    "gp_model.fit(X_train, y_train)\n",
    "\n",
    "print(\"Learned kernel:\", gp_model.kernel_)\n",
    "print(\"Log-marginal-likelihood:\", gp_model.log_marginal_likelihood_value_)\n"
   ]
  },
  {
   "cell_type": "code",
   "execution_count": 94,
   "metadata": {},
   "outputs": [
    {
     "data": {
      "text/plain": [
       "((40,), (40, 1))"
      ]
     },
     "execution_count": 94,
     "metadata": {},
     "output_type": "execute_result"
    }
   ],
   "source": [
    "y_train.shape, X_train.shape"
   ]
  },
  {
   "cell_type": "code",
   "execution_count": 95,
   "metadata": {},
   "outputs": [
    {
     "data": {
      "image/png": "[encoded data removed]",
      "text/plain": [
       "<Figure size 800x500 with 1 Axes>"
      ]
     },
     "metadata": {},
     "output_type": "display_data"
    }
   ],
   "source": [
    "import numpy as np\n",
    "import matplotlib.pyplot as plt\n",
    "from mpl_toolkits.mplot3d import Axes3D\n",
    "\n",
    "# Predict GP mean and standard deviation\n",
    "y_gp_mean, y_gp_std = gp_model.predict(X_test, return_std=True)\n",
    "\n",
    "# Check if data is 2D or 3D\n",
    "is_3d = X_train.shape[1] == 2 if len(X_train.shape) > 1 else False\n",
    "\n",
    "if is_3d:\n",
    "    fig = plt.figure(figsize=(8, 6))\n",
    "    ax = fig.add_subplot(111, projection='3d')\n",
    "\n",
    "    # Scatter training data\n",
    "    ax.scatter(X_train[:, 0], X_train[:, 1], y_train, c='r', label='Train data')\n",
    "\n",
    "    # Plot true function\n",
    "    ax.plot_trisurf(X_test[:, 0], X_test[:, 1], y_test_true, color='g', alpha=0.3, label='True function')\n",
    "\n",
    "    # Plot GP mean prediction\n",
    "    ax.plot_trisurf(X_test[:, 0], X_test[:, 1], y_gp_mean, color='b', alpha=0.5, label='GP mean')\n",
    "\n",
    "    # Uncertainty visualization using a wireframe (±2σ)\n",
    "    ax.plot_trisurf(X_test[:, 0], X_test[:, 1], y_gp_mean - 2*y_gp_std, color='blue', alpha=0.2)\n",
    "    ax.plot_trisurf(X_test[:, 0], X_test[:, 1], y_gp_mean + 2*y_gp_std, color='blue', alpha=0.2)\n",
    "\n",
    "    ax.set_title(\"Gaussian Process Regression (3D)\")\n",
    "    ax.set_xlabel(\"X1\")\n",
    "    ax.set_ylabel(\"X2\")\n",
    "    ax.set_zlabel(\"y\")\n",
    "    # plot legend in best location\n",
    "    ax.legend(loc='best')\n",
    "\n",
    "else:\n",
    "    plt.figure(figsize=(8, 5))\n",
    "    plt.scatter(X_train, y_train, c='r', label='Train data')\n",
    "    plt.plot(X_test, y_test_true, 'g--', label='True function')\n",
    "    plt.plot(X_test, y_gp_mean, 'b', label='GP mean')\n",
    "    plt.fill_between(X_test.ravel(),\n",
    "                     y_gp_mean - 2*y_gp_std,\n",
    "                     y_gp_mean + 2*y_gp_std,\n",
    "                     alpha=0.2, color='blue', label='GP ±2σ')\n",
    "    plt.title(\"Gaussian Process Regression (2D)\")\n",
    "    # plot legend in best location\n",
    "    plt.legend(loc='best')\n",
    "\n",
    "plt.show()\n"
   ]
  },
  {
   "cell_type": "markdown",
   "metadata": {},
   "source": [
    "## 4) Vanilla Neural Network (PyTorch)\n",
    "\n",
    "We'll build a simple fully connected network:\n",
    "- Input -> Dense(64, ReLU) -> Dense(64, ReLU) -> Dense(1)\n",
    "- Train with MSE loss, using Adam optimizer.\n",
    "\n",
    "We won't model predictive uncertainty in a Bayesian sense, so we'll just get a single best-fit curve. \n"
   ]
  },
  {
   "cell_type": "code",
   "execution_count": 96,
   "metadata": {},
   "outputs": [],
   "source": [
    "# In[5]: Define a simple feedforward neural network\n",
    "\n",
    "class SimpleNet(nn.Module):\n",
    "    def __init__(self, input_dim=1, hidden_dim=64):\n",
    "        super(SimpleNet, self).__init__()\n",
    "        self.net = nn.Sequential(\n",
    "            nn.Linear(input_dim, hidden_dim),\n",
    "            nn.ReLU(),\n",
    "            nn.Linear(hidden_dim, hidden_dim),\n",
    "            nn.ReLU(),\n",
    "            nn.Linear(hidden_dim, 1)\n",
    "        )\n",
    "    def forward(self, x):\n",
    "        return self.net(x)\n",
    "\n",
    "# Instantiate\n",
    "nn_model = SimpleNet(input_dim=1, hidden_dim=64)\n",
    "\n",
    "criterion = nn.MSELoss()\n",
    "optimizer = optim.Adam(nn_model.parameters(), lr=0.01)\n"
   ]
  },
  {
   "cell_type": "markdown",
   "metadata": {},
   "source": [
    "### Training loop for the Neural Network\n",
    "We'll train for a modest number of epochs (e.g. 2000).\n"
   ]
  },
  {
   "cell_type": "code",
   "execution_count": 97,
   "metadata": {},
   "outputs": [
    {
     "name": "stdout",
     "output_type": "stream",
     "text": [
      "Epoch 500/2000, Loss=0.1097\n",
      "Epoch 1000/2000, Loss=0.0947\n",
      "Epoch 1500/2000, Loss=0.0925\n",
      "Epoch 2000/2000, Loss=0.0941\n"
     ]
    }
   ],
   "source": [
    "# In[6]: Train the network\n",
    "\n",
    "X_train_t = torch.from_numpy(X_train).float()\n",
    "y_train_t = torch.from_numpy(y_train).float().view(-1, 1)\n",
    "\n",
    "n_epochs = 2000\n",
    "for epoch in range(n_epochs):\n",
    "    nn_model.train()\n",
    "    optimizer.zero_grad()\n",
    "    \n",
    "    y_pred = nn_model(X_train_t)\n",
    "    loss = criterion(y_pred, y_train_t)\n",
    "    loss.backward()\n",
    "    optimizer.step()\n",
    "    \n",
    "    # Print progress occasionally\n",
    "    if (epoch+1) % 500 == 0:\n",
    "        print(f\"Epoch {epoch+1}/{n_epochs}, Loss={loss.item():.4f}\")\n"
   ]
  },
  {
   "cell_type": "code",
   "execution_count": 98,
   "metadata": {},
   "outputs": [
    {
     "data": {
      "text/plain": [
       "(200, 1)"
      ]
     },
     "execution_count": 98,
     "metadata": {},
     "output_type": "execute_result"
    }
   ],
   "source": [
    "X_test.shape"
   ]
  },
  {
   "cell_type": "code",
   "execution_count": 99,
   "metadata": {},
   "outputs": [
    {
     "data": {
      "image/png": "[encoded data removed]",
      "text/plain": [
       "<Figure size 800x500 with 1 Axes>"
      ]
     },
     "metadata": {},
     "output_type": "display_data"
    }
   ],
   "source": [
    "# In[7]: Predict with the trained NN and plot\n",
    "\n",
    "nn_model.eval()\n",
    "X_test_t = torch.from_numpy(X_test).float()\n",
    "with torch.no_grad():\n",
    "    y_nn_pred = nn_model(X_test_t).numpy().ravel()\n",
    "\n",
    "plt.figure(figsize=(8,5))\n",
    "plt.scatter(X_train, y_train, c='r', label='Train data')\n",
    "plt.plot(X_test, y_test_true, 'g--', label='True function')\n",
    "plt.plot(X_test, y_nn_pred, 'm', label='NN prediction')\n",
    "plt.title(\"Vanilla Neural Network Regression\")\n",
    "plt.legend()\n",
    "plt.show()\n"
   ]
  },
  {
   "cell_type": "markdown",
   "metadata": {},
   "source": [
    "## 5) Deep Kernel Learning (DKL) \n"
   ]
  },
  {
   "cell_type": "code",
   "execution_count": 100,
   "metadata": {},
   "outputs": [],
   "source": [
    "import numpy as np\n",
    "import torch\n",
    "import gpytorch\n",
    "import plotly.graph_objects as go\n",
    "import matplotlib.pyplot as plt\n",
    "import pandas as pd\n",
    "from torch import nn\n",
    "from plotly.subplots import make_subplots\n",
    "from sklearn.metrics import mean_squared_error"
   ]
  },
  {
   "cell_type": "code",
   "execution_count": 104,
   "metadata": {},
   "outputs": [
    {
     "data": {
      "application/vnd.plotly.v1+json": {
       "config": {
        "plotlyServerURL": "https://plot.ly"
       },
       "data": [
        {
         "line": {
          "color": "blue"
         },
         "mode": "lines",
         "name": "DKL Prediction",
         "type": "scatter",
         "x": {
          "bdata": "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",
          "dtype": "f8"
         },
         "y": {
          "bdata": "OKzdwEyN2cDCItXATnHQwMp9y8BWTcbAyOXAwHJMu8COh7XAGp2vwE6TqcCWcKPAPjudwIr5lsAqspDAQmuKwN4qhMCU7nvAvKxvwIybY8DUxVfArDZMwGz3QMA8ETbABI0rwLxyIcDsyBfAZJYOwHzgBcBoV/u/OPjrv1ip3b+IbtC/uErEv1g+ub8oSa+/GGimv1iWnr/ozpe/OAuSv3hBjb+YaIm/uHWGv/BbhL/IDoO/KICCv6Cggr+gYIO/wLCEv0iAhr/Qvoi/iFuLv9BEjr+Ia5G/mL2Uv4ArmL+ApZu/oByfv4iBor+4x6W/kOCov5TBq78oXq6/CK2wvwiksr9UO7S/EGy1v8wvtr/Qgba/DF62v8zAtb9UqbS/YBWzvz4Gsb+Oe66/NHerv3b8p7+gDaS/6K6fv/Djmr/wsZW/wh6Qv2ovir9y6oO/j6t6v3nvbL9frl6/HfZPvz/TQL97UzG/IYQhv7VxEb/1KQG/InLhvtJTwL5+FJ++xI57vhwHOb7Ic+29cDNTvUB4STwIuJo9xFUNPpRvTD42RIU+SsOjPrqswT5q8d4+Yo77PmG7Cz+5URk/R4gmP81aMz8Lxz8/6ctLP81mVz81l2I/wVptP8+xdz+CzoA/do2FP4YVij8AaI4/GISSP0Rrlj8gHZo/WJudPzzmoD9k/qM/gOWmP2CcqT8yJKw/MH6uPx6ssD84r7I/iom0P648tj9Cyrc/XjW5P1h/uj/Uqrs/Nru8P8CxvT8Wk74/VGG/Pz4gwD/w08A/CIDBPzApwj/I08I/LoXDP2xCxD+8EcU/APnFP+T/xj9wLcg/monJPxgdyz/w8cw/XBHPP3CH0T+2X9Q/EKfXP/Rr2z8ovd8/HKvkP2hH6j/upPA/8tf3PyT2/z/4igRAfacJQFRdD0D9uBVAlsccQKiVJECqLy1AcKA2QLjxQEBKKkxA8E1YQJRbZUBSTHNA3AiBQE7KiECK2ZBAkh+ZQLB+oUAF0qlAJe2xQL2cuUAhp8BAn83GQNPOy0BCac9Akl7RQIx30UAIiM9AzXLLQL4sxUA=",
          "dtype": "f4"
         }
        },
        {
         "line": {
          "color": "red"
         },
         "mode": "lines",
         "name": "True Function",
         "type": "scatter",
         "x": {
          "bdata": "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",
          "dtype": "f8"
         },
         "y": {
          "bdata": "OkL6wL6v8MAYT+fAjiHewFgo1cCkZMzAktfDwDGCu8CAZbPAboKrwNPZo8B3bJzACDuVwCJGjsBGjofA3xOBwHyudcA0sWnAITBewEYrU8B0okjAQZU+wA4DNcAD6yvAEkwjwPYkG8AydBPAFDgMwLRuBcDsK/6/F1fyv+ZZ57/5Lt2/kdDTv5k4y7+lYMO/+EG8v43Vtb8WFLC/BPaqv49zpr+2hKK/SiGfv/FAnL8w25m/a+eXv/Rclr8JM5W/4GCUv6/dk7+roJO/F6GTv0jWk7+oN5S/wLyUv0Fdlb8CEZa/D9CWv6mSl79OUZi/vgSZvwGmmb9qLpq/npeav5nbmr+s9Jq/i92av0eRmr9WC5q/k0eZv0ZCmL8d+Ja/NmaVvxuKk7/EYZG/muuOv3ImjL+REYm/qqyFv9v3gb9c53u/KEJzv8wCar+/LGC/O8RVvzHOSr9HUD+/y1Azv67WJr946Rm/P5EMvzWt/b46heG+h73Evtppp76Znom+deFWvlvrGb7yDLm9Svf2vEr39jzyDLk9W+sZPnXhVj6Znok+2mmnPoe9xD46heE+Na39Pj+RDD946Rk/rtYmP8tQMz9HUD8/Mc5KPzvEVT+/LGA/zAJqPyhCcz9c53s/2/eBP6qshT+REYk/ciaMP5rrjj/EYZE/G4qTPzZmlT8d+JY/RkKYP5NHmT9WC5o/R5GaP4vdmj+s9Jo/mduaP56Xmj9qLpo/AaaZP74EmT9OUZg/qZKXPw/Qlj8CEZY/QV2VP8C8lD+oN5Q/SNaTPxehkz+roJM/r92TP+BglD8JM5U/9FyWP2vnlz8w25k/8UCcP0ohnz+2hKI/j3OmPwT2qj8WFLA/jdW1P/hBvD+lYMM/mTjLP5HQ0z/5Lt0/5lnnPxdX8j/sK/4/tG4FQBQ4DEAydBNA9iQbQBJMI0AD6ytADgM1QEGVPkB0okhARitTQCEwXkA0sWlAfK51QN8TgUBGjodAIkaOQAg7lUB3bJxA09mjQG6Cq0CAZbNAMYK7QJLXw0CkZMxAWCjVQI4h3kAYT+dAvq/wQDpC+kA=",
          "dtype": "f4"
         }
        },
        {
         "marker": {
          "color": "black",
          "size": 5
         },
         "mode": "markers",
         "name": "Train Points",
         "type": "scatter",
         "x": {
          "bdata": "rdETwLWGJz8ixwzAKDrHv9jBhL+n6AlAVB1/P5DmfD7T2zTAyYSzP1VbIb/h+Oc/xZq8v/wnKsAHywxA7j/Wv6vvEb/oPI2/wI8iwFzMA0Ad/gVA6Ao1QKIPML8Ahi5AXKGmvjlZgj/qUSDAYXwYQCEim7/GjLa/vwc+wNe3hD6Z7xW+UHhRP2GhN0Av7RxAsH8dQLwrGz6FDhjAvg71vw==",
          "dtype": "f4"
         },
         "y": {
          "bdata": "c5svwBbXoj/BWAXAojFTv/QJ47/o5xlAtq2TP9uxDT8CtcrASSfpPwVR7L/Dw/A/NV62v0mGhsC8xi5A/9dLv/8MIr/dGJq+/hKHwGyCxz8bENA/+mjSQAmTzL/CArhAbks7v458SD8NGobA7mAvQPye5L8uJ3O/MpblwLRbYj9KSwq/1IakP2Q+0kBc6m1Aw+9qQH3Uqz6wH3HA5cXEvw==",
          "dtype": "f4"
         }
        }
       ],
       "layout": {
        "template": {
         "data": {
          "bar": [
           {
            "error_x": {
             "color": "#2a3f5f"
            },
            "error_y": {
             "color": "#2a3f5f"
            },
            "marker": {
             "line": {
              "color": "#E5ECF6",
              "width": 0.5
             },
             "pattern": {
              "fillmode": "overlay",
              "size": 10,
              "solidity": 0.2
             }
            },
            "type": "bar"
           }
          ],
          "barpolar": [
           {
            "marker": {
             "line": {
              "color": "#E5ECF6",
              "width": 0.5
             },
             "pattern": {
              "fillmode": "overlay",
              "size": 10,
              "solidity": 0.2
             }
            },
            "type": "barpolar"
           }
          ],
          "carpet": [
           {
            "aaxis": {
             "endlinecolor": "#2a3f5f",
             "gridcolor": "white",
             "linecolor": "white",
             "minorgridcolor": "white",
             "startlinecolor": "#2a3f5f"
            },
            "baxis": {
             "endlinecolor": "#2a3f5f",
             "gridcolor": "white",
             "linecolor": "white",
             "minorgridcolor": "white",
             "startlinecolor": "#2a3f5f"
            },
            "type": "carpet"
           }
          ],
          "choropleth": [
           {
            "colorbar": {
             "outlinewidth": 0,
             "ticks": ""
            },
            "type": "choropleth"
           }
          ],
          "contour": [
           {
            "colorbar": {
             "outlinewidth": 0,
             "ticks": ""
            },
            "colorscale": [
             [
              0,
              "#0d0887"
             ],
             [
              0.1111111111111111,
              "#46039f"
             ],
             [
              0.2222222222222222,
              "#7201a8"
             ],
             [
              0.3333333333333333,
              "#9c179e"
             ],
             [
              0.4444444444444444,
              "#bd3786"
             ],
             [
              0.5555555555555556,
              "#d8576b"
             ],
             [
              0.6666666666666666,
              "#ed7953"
             ],
             [
              0.7777777777777778,
              "#fb9f3a"
             ],
             [
              0.8888888888888888,
              "#fdca26"
             ],
             [
              1,
              "#f0f921"
             ]
            ],
            "type": "contour"
           }
          ],
          "contourcarpet": [
           {
            "colorbar": {
             "outlinewidth": 0,
             "ticks": ""
            },
            "type": "contourcarpet"
           }
          ],
          "heatmap": [
           {
            "colorbar": {
             "outlinewidth": 0,
             "ticks": ""
            },
            "colorscale": [
             [
              0,
              "#0d0887"
             ],
             [
              0.1111111111111111,
              "#46039f"
             ],
             [
              0.2222222222222222,
              "#7201a8"
             ],
             [
              0.3333333333333333,
              "#9c179e"
             ],
             [
              0.4444444444444444,
              "#bd3786"
             ],
             [
              0.5555555555555556,
              "#d8576b"
             ],
             [
              0.6666666666666666,
              "#ed7953"
             ],
             [
              0.7777777777777778,
              "#fb9f3a"
             ],
             [
              0.8888888888888888,
              "#fdca26"
             ],
             [
              1,
              "#f0f921"
             ]
            ],
            "type": "heatmap"
           }
          ],
          "histogram": [
           {
            "marker": {
             "pattern": {
              "fillmode": "overlay",
              "size": 10,
              "solidity": 0.2
             }
            },
            "type": "histogram"
           }
          ],
          "histogram2d": [
           {
            "colorbar": {
             "outlinewidth": 0,
             "ticks": ""
            },
            "colorscale": [
             [
              0,
              "#0d0887"
             ],
             [
              0.1111111111111111,
              "#46039f"
             ],
             [
              0.2222222222222222,
              "#7201a8"
             ],
             [
              0.3333333333333333,
              "#9c179e"
             ],
             [
              0.4444444444444444,
              "#bd3786"
             ],
             [
              0.5555555555555556,
              "#d8576b"
             ],
             [
              0.6666666666666666,
              "#ed7953"
             ],
             [
              0.7777777777777778,
              "#fb9f3a"
             ],
             [
              0.8888888888888888,
              "#fdca26"
             ],
             [
              1,
              "#f0f921"
             ]
            ],
            "type": "histogram2d"
           }
          ],
          "histogram2dcontour": [
           {
            "colorbar": {
             "outlinewidth": 0,
             "ticks": ""
            },
            "colorscale": [
             [
              0,
              "#0d0887"
             ],
             [
              0.1111111111111111,
              "#46039f"
             ],
             [
              0.2222222222222222,
              "#7201a8"
             ],
             [
              0.3333333333333333,
              "#9c179e"
             ],
             [
              0.4444444444444444,
              "#bd3786"
             ],
             [
              0.5555555555555556,
              "#d8576b"
             ],
             [
              0.6666666666666666,
              "#ed7953"
             ],
             [
              0.7777777777777778,
              "#fb9f3a"
             ],
             [
              0.8888888888888888,
              "#fdca26"
             ],
             [
              1,
              "#f0f921"
             ]
            ],
            "type": "histogram2dcontour"
           }
          ],
          "mesh3d": [
           {
            "colorbar": {
             "outlinewidth": 0,
             "ticks": ""
            },
            "type": "mesh3d"
           }
          ],
          "parcoords": [
           {
            "line": {
             "colorbar": {
              "outlinewidth": 0,
              "ticks": ""
             }
            },
            "type": "parcoords"
           }
          ],
          "pie": [
           {
            "automargin": true,
            "type": "pie"
           }
          ],
          "scatter": [
           {
            "fillpattern": {
             "fillmode": "overlay",
             "size": 10,
             "solidity": 0.2
            },
            "type": "scatter"
           }
          ],
          "scatter3d": [
           {
            "line": {
             "colorbar": {
              "outlinewidth": 0,
              "ticks": ""
             }
            },
            "marker": {
             "colorbar": {
              "outlinewidth": 0,
              "ticks": ""
             }
            },
            "type": "scatter3d"
           }
          ],
          "scattercarpet": [
           {
            "marker": {
             "colorbar": {
              "outlinewidth": 0,
              "ticks": ""
             }
            },
            "type": "scattercarpet"
           }
          ],
          "scattergeo": [
           {
            "marker": {
             "colorbar": {
              "outlinewidth": 0,
              "ticks": ""
             }
            },
            "type": "scattergeo"
           }
          ],
          "scattergl": [
           {
            "marker": {
             "colorbar": {
              "outlinewidth": 0,
              "ticks": ""
             }
            },
            "type": "scattergl"
           }
          ],
          "scattermap": [
           {
            "marker": {
             "colorbar": {
              "outlinewidth": 0,
              "ticks": ""
             }
            },
            "type": "scattermap"
           }
          ],
          "scattermapbox": [
           {
            "marker": {
             "colorbar": {
              "outlinewidth": 0,
              "ticks": ""
             }
            },
            "type": "scattermapbox"
           }
          ],
          "scatterpolar": [
           {
            "marker": {
             "colorbar": {
              "outlinewidth": 0,
              "ticks": ""
             }
            },
            "type": "scatterpolar"
           }
          ],
          "scatterpolargl": [
           {
            "marker": {
             "colorbar": {
              "outlinewidth": 0,
              "ticks": ""
             }
            },
            "type": "scatterpolargl"
           }
          ],
          "scatterternary": [
           {
            "marker": {
             "colorbar": {
              "outlinewidth": 0,
              "ticks": ""
             }
            },
            "type": "scatterternary"
           }
          ],
          "surface": [
           {
            "colorbar": {
             "outlinewidth": 0,
             "ticks": ""
            },
            "colorscale": [
             [
              0,
              "#0d0887"
             ],
             [
              0.1111111111111111,
              "#46039f"
             ],
             [
              0.2222222222222222,
              "#7201a8"
             ],
             [
              0.3333333333333333,
              "#9c179e"
             ],
             [
              0.4444444444444444,
              "#bd3786"
             ],
             [
              0.5555555555555556,
              "#d8576b"
             ],
             [
              0.6666666666666666,
              "#ed7953"
             ],
             [
              0.7777777777777778,
              "#fb9f3a"
             ],
             [
              0.8888888888888888,
              "#fdca26"
             ],
             [
              1,
              "#f0f921"
             ]
            ],
            "type": "surface"
           }
          ],
          "table": [
           {
            "cells": {
             "fill": {
              "color": "#EBF0F8"
             },
             "line": {
              "color": "white"
             }
            },
            "header": {
             "fill": {
              "color": "#C8D4E3"
             },
             "line": {
              "color": "white"
             }
            },
            "type": "table"
           }
          ]
         },
         "layout": {
          "annotationdefaults": {
           "arrowcolor": "#2a3f5f",
           "arrowhead": 0,
           "arrowwidth": 1
          },
          "autotypenumbers": "strict",
          "coloraxis": {
           "colorbar": {
            "outlinewidth": 0,
            "ticks": ""
           }
          },
          "colorscale": {
           "diverging": [
            [
             0,
             "#8e0152"
            ],
            [
             0.1,
             "#c51b7d"
            ],
            [
             0.2,
             "#de77ae"
            ],
            [
             0.3,
             "#f1b6da"
            ],
            [
             0.4,
             "#fde0ef"
            ],
            [
             0.5,
             "#f7f7f7"
            ],
            [
             0.6,
             "#e6f5d0"
            ],
            [
             0.7,
             "#b8e186"
            ],
            [
             0.8,
             "#7fbc41"
            ],
            [
             0.9,
             "#4d9221"
            ],
            [
             1,
             "#276419"
            ]
           ],
           "sequential": [
            [
             0,
             "#0d0887"
            ],
            [
             0.1111111111111111,
             "#46039f"
            ],
            [
             0.2222222222222222,
             "#7201a8"
            ],
            [
             0.3333333333333333,
             "#9c179e"
            ],
            [
             0.4444444444444444,
             "#bd3786"
            ],
            [
             0.5555555555555556,
             "#d8576b"
            ],
            [
             0.6666666666666666,
             "#ed7953"
            ],
            [
             0.7777777777777778,
             "#fb9f3a"
            ],
            [
             0.8888888888888888,
             "#fdca26"
            ],
            [
             1,
             "#f0f921"
            ]
           ],
           "sequentialminus": [
            [
             0,
             "#0d0887"
            ],
            [
             0.1111111111111111,
             "#46039f"
            ],
            [
             0.2222222222222222,
             "#7201a8"
            ],
            [
             0.3333333333333333,
             "#9c179e"
            ],
            [
             0.4444444444444444,
             "#bd3786"
            ],
            [
             0.5555555555555556,
             "#d8576b"
            ],
            [
             0.6666666666666666,
             "#ed7953"
            ],
            [
             0.7777777777777778,
             "#fb9f3a"
            ],
            [
             0.8888888888888888,
             "#fdca26"
            ],
            [
             1,
             "#f0f921"
            ]
           ]
          },
          "colorway": [
           "#636efa",
           "#EF553B",
           "#00cc96",
           "#ab63fa",
           "#FFA15A",
           "#19d3f3",
           "#FF6692",
           "#B6E880",
           "#FF97FF",
           "#FECB52"
          ],
          "font": {
           "color": "#2a3f5f"
          },
          "geo": {
           "bgcolor": "white",
           "lakecolor": "white",
           "landcolor": "#E5ECF6",
           "showlakes": true,
           "showland": true,
           "subunitcolor": "white"
          },
          "hoverlabel": {
           "align": "left"
          },
          "hovermode": "closest",
          "mapbox": {
           "style": "light"
          },
          "paper_bgcolor": "white",
          "plot_bgcolor": "#E5ECF6",
          "polar": {
           "angularaxis": {
            "gridcolor": "white",
            "linecolor": "white",
            "ticks": ""
           },
           "bgcolor": "#E5ECF6",
           "radialaxis": {
            "gridcolor": "white",
            "linecolor": "white",
            "ticks": ""
           }
          },
          "scene": {
           "xaxis": {
            "backgroundcolor": "#E5ECF6",
            "gridcolor": "white",
            "gridwidth": 2,
            "linecolor": "white",
            "showbackground": true,
            "ticks": "",
            "zerolinecolor": "white"
           },
           "yaxis": {
            "backgroundcolor": "#E5ECF6",
            "gridcolor": "white",
            "gridwidth": 2,
            "linecolor": "white",
            "showbackground": true,
            "ticks": "",
            "zerolinecolor": "white"
           },
           "zaxis": {
            "backgroundcolor": "#E5ECF6",
            "gridcolor": "white",
            "gridwidth": 2,
            "linecolor": "white",
            "showbackground": true,
            "ticks": "",
            "zerolinecolor": "white"
           }
          },
          "shapedefaults": {
           "line": {
            "color": "#2a3f5f"
           }
          },
          "ternary": {
           "aaxis": {
            "gridcolor": "white",
            "linecolor": "white",
            "ticks": ""
           },
           "baxis": {
            "gridcolor": "white",
            "linecolor": "white",
            "ticks": ""
           },
           "bgcolor": "#E5ECF6",
           "caxis": {
            "gridcolor": "white",
            "linecolor": "white",
            "ticks": ""
           }
          },
          "title": {
           "x": 0.05
          },
          "xaxis": {
           "automargin": true,
           "gridcolor": "white",
           "linecolor": "white",
           "ticks": "",
           "title": {
            "standoff": 15
           },
           "zerolinecolor": "white",
           "zerolinewidth": 2
          },
          "yaxis": {
           "automargin": true,
           "gridcolor": "white",
           "linecolor": "white",
           "ticks": "",
           "title": {
            "standoff": 15
           },
           "zerolinecolor": "white",
           "zerolinewidth": 2
          }
         }
        },
        "title": {
         "text": "DKL Predictions on Synthetic Data"
        },
        "xaxis": {
         "title": {
          "text": "X"
         }
        },
        "yaxis": {
         "title": {
          "text": "Y"
         }
        }
       }
      }
     },
     "metadata": {},
     "output_type": "display_data"
    },
    {
     "data": {
      "image/png": "[encoded data removed]",
      "text/plain": [
       "<Figure size 800x500 with 1 Axes>"
      ]
     },
     "metadata": {},
     "output_type": "display_data"
    }
   ],
   "source": [
    "# Convert to tensors\n",
    "train_x = torch.tensor(X_train, dtype=torch.float32)\n",
    "train_y = torch.tensor(y_train, dtype=torch.float32)\n",
    "test_x = torch.tensor(X_test, dtype=torch.float32)\n",
    "test_y = torch.tensor(y_test_true, dtype=torch.float32)\n",
    "\n",
    "# Define DNN feature extractor\n",
    "class FeatureExtractor(nn.Module):\n",
    "    def __init__(self):\n",
    "        super(FeatureExtractor, self).__init__()\n",
    "        self.fc1 = nn.Linear(1, 8)\n",
    "        self.fc2 = nn.Linear(8, 4)\n",
    "        self.fc3 = nn.Linear(4, 2)\n",
    "        self.activation = nn.Softplus()\n",
    "    \n",
    "    def forward(self, x):\n",
    "        x = self.activation(self.fc1(x))\n",
    "        x = self.activation(self.fc2(x))\n",
    "        x = self.fc3(x)\n",
    "        return x\n",
    "\n",
    "# Define DKL model\n",
    "class DKLModel(gpytorch.models.ExactGP):\n",
    "    def __init__(self, train_x, train_y, likelihood):\n",
    "        super(DKLModel, self).__init__(train_x, train_y, likelihood)\n",
    "        self.feature_extractor = FeatureExtractor()\n",
    "        self.mean_module = gpytorch.means.ConstantMean()\n",
    "        self.covar_module = gpytorch.kernels.ScaleKernel(gpytorch.kernels.RBFKernel())\n",
    "    \n",
    "    def forward(self, x):\n",
    "        projected_x = self.feature_extractor(x)\n",
    "        mean_x = self.mean_module(projected_x)\n",
    "        covar_x = self.covar_module(projected_x)\n",
    "        return gpytorch.distributions.MultivariateNormal(mean_x, covar_x)\n",
    "\n",
    "\n",
    "\n",
    "# Initialize likelihoods and models\n",
    "dkl_likelihood = gpytorch.likelihoods.GaussianLikelihood()\n",
    "dkl_model = DKLModel(train_x, train_y, dkl_likelihood)\n",
    "\n",
    "# Training parameters\n",
    "training_iterations = 500\n",
    "\n",
    "# Train DKL model\n",
    "dkl_model.train()\n",
    "dkl_likelihood.train()\n",
    "optimizer = torch.optim.Adam([\n",
    "    {'params': dkl_model.feature_extractor.parameters()},\n",
    "    {'params': dkl_model.covar_module.parameters()},\n",
    "    {'params': dkl_model.mean_module.parameters()},\n",
    "    {'params': dkl_likelihood.parameters(), 'lr': 0.05},\n",
    "], lr=0.1)\n",
    "mll = gpytorch.mlls.ExactMarginalLogLikelihood(dkl_likelihood, dkl_model)\n",
    "scheduler = torch.optim.lr_scheduler.StepLR(optimizer, step_size=100, gamma=0.5)\n",
    "\n",
    "for i in range(training_iterations):\n",
    "    optimizer.zero_grad()\n",
    "    output = dkl_model(train_x)\n",
    "    loss = -mll(output, train_y)\n",
    "    loss.backward()\n",
    "    optimizer.step()\n",
    "    scheduler.step()\n",
    "\n",
    "\n",
    "# Evaluate models\n",
    "dkl_model.eval()\n",
    "dkl_likelihood.eval()\n",
    "\n",
    "with torch.no_grad(), gpytorch.settings.fast_pred_var():\n",
    "    dkl_pred = dkl_likelihood(dkl_model(test_x))\n",
    "\n",
    "dkl_pred = dkl_pred.mean.numpy()\n",
    "true_y = test_y.numpy()\n",
    "\n",
    "# Create interactive plots\n",
    "fig = go.Figure()\n",
    "\n",
    "# DKL predictions\n",
    "fig.add_trace(go.Scatter(x=X_test.ravel(), y=dkl_pred, mode='lines', name='DKL Prediction', line=dict(color='blue')))\n",
    "\n",
    "# True function\n",
    "fig.add_trace(go.Scatter(x=X_test.ravel(), y=true_y, mode='lines', name='True Function', line=dict(color='red')))\n",
    "\n",
    "# Training points\n",
    "fig.add_trace(go.Scatter(x=train_x.numpy().ravel(), y=train_y.numpy(), mode='markers', name='Train Points', marker=dict(color='black', size=5)))\n",
    "\n",
    "fig.update_layout(title='DKL Predictions on Synthetic Data', xaxis_title='X', yaxis_title='Y')\n",
    "fig.show()\n",
    "\n",
    "# also plot using matplotlib\n",
    "plt.figure(figsize=(8,5))\n",
    "plt.plot(X_test, dkl_pred, 'b', label='DKL Prediction')\n",
    "plt.plot(X_test, true_y, 'r--', label='True function')\n",
    "plt.scatter(X_train, y_train, c='k', label='Train data')\n",
    "plt.title(\"Deep Kernel Learning (DKL) Predictions\")\n",
    "plt.legend()\n",
    "plt.show()\n",
    "\n"
   ]
  },
  {
   "cell_type": "markdown",
   "metadata": {},
   "source": [
    "## 6) Comparison and Discussion\n",
    "\n",
    "We've now seen:\n",
    "1. **Standard GP**: Learns a lengthscale and noise, yields smooth function + uncertainty.  \n",
    "2. **Vanilla NN**: Flexible, but doesn't give uncertainty intervals out of the box.  \n",
    "3. **DKL**: Combines a neural net front-end with a GP in latent space, capturing more complex relationships while retaining GP-based uncertainty.\n",
    "\n",
    "Below, let's compute a quick RMSE on test data for each approach.\n"
   ]
  },
  {
   "cell_type": "code",
   "execution_count": 102,
   "metadata": {},
   "outputs": [
    {
     "data": {
      "text/html": [
       "<div>\n",
       "<style scoped>\n",
       "    .dataframe tbody tr th:only-of-type {\n",
       "        vertical-align: middle;\n",
       "    }\n",
       "\n",
       "    .dataframe tbody tr th {\n",
       "        vertical-align: top;\n",
       "    }\n",
       "\n",
       "    .dataframe thead th {\n",
       "        text-align: right;\n",
       "    }\n",
       "</style>\n",
       "<table border=\"1\" class=\"dataframe\">\n",
       "  <thead>\n",
       "    <tr style=\"text-align: right;\">\n",
       "      <th></th>\n",
       "      <th>Model</th>\n",
       "      <th>MSE</th>\n",
       "    </tr>\n",
       "  </thead>\n",
       "  <tbody>\n",
       "    <tr>\n",
       "      <th>0</th>\n",
       "      <td>DKL</td>\n",
       "      <td>0.035493</td>\n",
       "    </tr>\n",
       "    <tr>\n",
       "      <th>1</th>\n",
       "      <td>GP</td>\n",
       "      <td>0.165852</td>\n",
       "    </tr>\n",
       "    <tr>\n",
       "      <th>2</th>\n",
       "      <td>NN</td>\n",
       "      <td>0.071081</td>\n",
       "    </tr>\n",
       "  </tbody>\n",
       "</table>\n",
       "</div>"
      ],
      "text/plain": [
       "  Model       MSE\n",
       "0   DKL  0.035493\n",
       "1    GP  0.165852\n",
       "2    NN  0.071081"
      ]
     },
     "execution_count": 102,
     "metadata": {},
     "output_type": "execute_result"
    }
   ],
   "source": [
    "dkl_mse = mean_squared_error(test_y.numpy(), dkl_pred.ravel())\n",
    "gp_mse = mean_squared_error(test_y.numpy(), y_gp_mean)\n",
    "nn_mse = mean_squared_error(y_test_true, y_nn_pred)\n",
    "\n",
    "\n",
    "df = pd.DataFrame({'Model': ['DKL', 'GP', 'NN'],\n",
    "                   'MSE': [dkl_mse, gp_mse, nn_mse]\n",
    "                   })\n",
    "df"
   ]
  },
  {
   "cell_type": "markdown",
   "metadata": {},
   "source": [
    "# # 7) Conclusions / Next Steps\n",
    "\n",
    "- **Standard GP** performed well for this 1D case, with good uncertainty intervals but potentially limited if we had high-dimensional data.\n",
    "- **Vanilla NN** can capture nonlinearity but doesn't give straightforward uncertainty. Performance depends on network architecture and training.\n",
    "- **DKL** can learn a richer latent representation than a standard GP, potentially improving performance on more complex data, while still giving a GP posterior for uncertainty.\n",
    "\n",
    "**Further directions**:\n",
    "- Use larger or more complex data (e.g., 2D or higher-dimensional). \n",
    "- Explore hyperparameter tuning, e.g., different net widths, #inducing points, etc. \n",
    "- Evaluate run-time complexity for big datasets, considering sparse GP approximations or mini-batching."
   ]
  }
 ],
 "metadata": {
  "kernelspec": {
   "display_name": "Python 3",
   "language": "python",
   "name": "python3"
  },
  "language_info": {
   "codemirror_mode": {
    "name": "ipython",
    "version": 3
   },
   "file_extension": ".py",
   "mimetype": "text/x-python",
   "name": "python",
   "nbconvert_exporter": "python",
   "pygments_lexer": "ipython3",
   "version": "3.12.9"
  }
 },
 "nbformat": 4,
 "nbformat_minor": 2
}
